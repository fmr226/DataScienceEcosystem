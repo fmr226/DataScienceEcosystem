{
 "cells": [
  {
   "cell_type": "markdown",
   "id": "8eb46338-ac36-4d09-85e1-4b96e01a0248",
   "metadata": {
    "panel-layout": {
     "height": 60.5833,
     "visible": true,
     "width": 100
    }
   },
   "source": [
    "# Data Science Tools and Ecosystem"
   ]
  },
  {
   "cell_type": "markdown",
   "id": "242d4d05-ee4c-46eb-8fa6-55fce23eb1a2",
   "metadata": {
    "panel-layout": {
     "height": 51.1389,
     "visible": true,
     "width": 100
    }
   },
   "source": [
    "In this notebook, Data Science Tools and Ecosystem are summarized."
   ]
  },
  {
   "cell_type": "markdown",
   "id": "6f7b0280-1f8c-4c2d-ab9b-8612f6a0e1c8",
   "metadata": {
    "panel-layout": {
     "height": 51.1389,
     "visible": true,
     "width": 100
    }
   },
   "source": [
    "**Objectives:**"
   ]
  },
  {
   "cell_type": "markdown",
   "id": "1a03af68-f4c4-4ddd-bdfd-754fa58b6552",
   "metadata": {
    "panel-layout": {
     "height": 119.6875,
     "visible": true,
     "width": 100
    }
   },
   "source": [
    "* Python\n",
    "* R\n",
    "* SQL\n",
    "* Java\n",
    "* Julia"
   ]
  },
  {
   "cell_type": "markdown",
   "id": "0571e523-f2c5-45d0-a3a4-e585f0b537cc",
   "metadata": {},
   "source": [
    "Some of the popular languages that Data Scientists use are:"
   ]
  },
  {
   "cell_type": "markdown",
   "id": "45903521-97e9-4788-89c9-0d5d4b97473e",
   "metadata": {
    "panel-layout": {
     "height": 51.1389,
     "visible": true,
     "width": 100
    }
   },
   "source": [
    "1. R"
   ]
  },
  {
   "cell_type": "markdown",
   "id": "8079becd-8d9d-4b1f-a9a1-266319eed882",
   "metadata": {
    "panel-layout": {
     "height": 51.1389,
     "visible": true,
     "width": 100
    }
   },
   "source": [
    "2. Python"
   ]
  },
  {
   "cell_type": "markdown",
   "id": "a72df887-3900-446b-a4a2-6a25a393ba62",
   "metadata": {
    "panel-layout": {
     "height": 51.1389,
     "visible": true,
     "width": 100
    }
   },
   "source": [
    "3. C++"
   ]
  },
  {
   "cell_type": "markdown",
   "id": "46f7cf2e-fa1d-42d0-b1b2-2b6b1db60142",
   "metadata": {
    "panel-layout": {
     "height": 51.1389,
     "visible": true,
     "width": 100
    }
   },
   "source": [
    "4. Ruby"
   ]
  },
  {
   "cell_type": "markdown",
   "id": "73b7b09f-2e0c-4adf-b05a-673541a9d210",
   "metadata": {
    "panel-layout": {
     "height": 51.1389,
     "visible": true,
     "width": 100
    }
   },
   "source": [
    "5. Julia"
   ]
  },
  {
   "cell_type": "markdown",
   "id": "d3f8cc87-a9c6-4af9-b1c4-7f83ccaa971a",
   "metadata": {
    "panel-layout": {
     "height": 51.1389,
     "visible": true,
     "width": 100
    }
   },
   "source": [
    "6. SQL"
   ]
  },
  {
   "cell_type": "markdown",
   "id": "77d42ae5-dad1-43c5-a674-19f69075201e",
   "metadata": {},
   "source": [
    "Some of the commonly used libraries used by Data Scientists include:"
   ]
  },
  {
   "cell_type": "markdown",
   "id": "f0450c26-ffb5-4dc8-9332-efa814c02b85",
   "metadata": {
    "panel-layout": {
     "height": 51.1389,
     "visible": true,
     "width": 100
    }
   },
   "source": [
    "1. Matplotlib"
   ]
  },
  {
   "cell_type": "markdown",
   "id": "1ded572f-fbb2-4c26-a2e5-db70fce793b2",
   "metadata": {
    "panel-layout": {
     "height": 51.1389,
     "visible": true,
     "width": 100
    }
   },
   "source": [
    "2. Numpy"
   ]
  },
  {
   "cell_type": "markdown",
   "id": "e3bdab32-6392-40b1-be5e-df96bdf2abf1",
   "metadata": {
    "panel-layout": {
     "height": 51.1389,
     "visible": true,
     "width": 100
    }
   },
   "source": [
    "3. Plotly"
   ]
  },
  {
   "cell_type": "markdown",
   "id": "d7927412-f1af-425e-b500-fa1dad0a6722",
   "metadata": {
    "panel-layout": {
     "height": 51.1389,
     "visible": true,
     "width": 100
    }
   },
   "source": [
    "4. Seaborn"
   ]
  },
  {
   "cell_type": "markdown",
   "id": "e670f78e-c99a-4237-af8d-b145605533b2",
   "metadata": {
    "panel-layout": {
     "height": 51.1389,
     "visible": true,
     "width": 100
    }
   },
   "source": [
    "5. Scikit-learn"
   ]
  },
  {
   "cell_type": "markdown",
   "id": "1467604e-209e-42b1-8c96-425db08ec3f4",
   "metadata": {
    "panel-layout": {
     "height": 51.1389,
     "visible": true,
     "width": 100
    }
   },
   "source": [
    "|Data Science Tools-Jupyter Notebook-R Studio-Visual Studio Code"
   ]
  },
  {
   "cell_type": "markdown",
   "id": "6ea2c71d-a918-44a7-86bd-7d0ccd1f0b50",
   "metadata": {
    "panel-layout": {
     "height": 44.0833,
     "visible": true,
     "width": 100
    }
   },
   "source": [
    "### Below are a few examples of evaluating arithmetic expressions in Python"
   ]
  },
  {
   "cell_type": "markdown",
   "id": "e6be9511-fba6-4463-af32-b95ab8004951",
   "metadata": {
    "panel-layout": {
     "height": 51.1389,
     "visible": true,
     "width": 100
    }
   },
   "source": [
    "This a simple arithmetic expression to mutiply then add integers"
   ]
  },
  {
   "cell_type": "code",
   "execution_count": 1,
   "id": "3c6e21e3-2c50-44dc-9282-6b346a3b8031",
   "metadata": {
    "panel-layout": {
     "height": 27.1389,
     "visible": true,
     "width": 100
    },
    "scrolled": true
   },
   "outputs": [
    {
     "data": {
      "text/plain": [
       "17"
      ]
     },
     "execution_count": 1,
     "metadata": {},
     "output_type": "execute_result"
    }
   ],
   "source": [
    "(3*4)+5"
   ]
  },
  {
   "cell_type": "markdown",
   "id": "e57b3416-fe97-4493-b0a3-abf87060e99a",
   "metadata": {
    "panel-layout": {
     "height": 51.1389,
     "visible": true,
     "width": 100
    }
   },
   "source": [
    " This will convert 200 minutes to hours by diving by 60"
   ]
  },
  {
   "cell_type": "code",
   "execution_count": 2,
   "id": "1dbf11cf-8319-4400-a10d-e5a8f8978116",
   "metadata": {
    "panel-layout": {
     "height": 27.1389,
     "visible": true,
     "width": 100
    }
   },
   "outputs": [
    {
     "data": {
      "text/plain": [
       "3.3333333333333335"
      ]
     },
     "execution_count": 2,
     "metadata": {},
     "output_type": "execute_result"
    }
   ],
   "source": [
    "200/60"
   ]
  },
  {
   "cell_type": "markdown",
   "id": "6d12d3ac-d1d2-498d-9823-00d6828a7a93",
   "metadata": {
    "panel-layout": {
     "height": 84.4000015258789,
     "visible": true,
     "width": 100
    }
   },
   "source": [
    "## Autor\n",
    "Fernando M. Ramirez"
   ]
  }
 ],
 "metadata": {
  "kernelspec": {
   "display_name": "Python 3 (ipykernel)",
   "language": "python",
   "name": "python3"
  },
  "language_info": {
   "codemirror_mode": {
    "name": "ipython",
    "version": 3
   },
   "file_extension": ".py",
   "mimetype": "text/x-python",
   "name": "python",
   "nbconvert_exporter": "python",
   "pygments_lexer": "ipython3",
   "version": "3.12.7"
  },
  "panel-cell-order": [
   "8eb46338-ac36-4d09-85e1-4b96e01a0248",
   "242d4d05-ee4c-46eb-8fa6-55fce23eb1a2",
   "6f7b0280-1f8c-4c2d-ab9b-8612f6a0e1c8",
   "1a03af68-f4c4-4ddd-bdfd-754fa58b6552",
   "16f0a526-c682-4139-9988-a8b0987e5a6b",
   "45903521-97e9-4788-89c9-0d5d4b97473e",
   "8079becd-8d9d-4b1f-a9a1-266319eed882",
   "a72df887-3900-446b-a4a2-6a25a393ba62",
   "46f7cf2e-fa1d-42d0-b1b2-2b6b1db60142",
   "73b7b09f-2e0c-4adf-b05a-673541a9d210",
   "d3f8cc87-a9c6-4af9-b1c4-7f83ccaa971a",
   "7c5a960a-030c-4ff0-aaf9-9a0de566312e",
   "f0450c26-ffb5-4dc8-9332-efa814c02b85",
   "1ded572f-fbb2-4c26-a2e5-db70fce793b2",
   "e3bdab32-6392-40b1-be5e-df96bdf2abf1",
   "d7927412-f1af-425e-b500-fa1dad0a6722",
   "e670f78e-c99a-4237-af8d-b145605533b2",
   "1467604e-209e-42b1-8c96-425db08ec3f4",
   "6ea2c71d-a918-44a7-86bd-7d0ccd1f0b50",
   "e6be9511-fba6-4463-af32-b95ab8004951",
   "3c6e21e3-2c50-44dc-9282-6b346a3b8031",
   "e57b3416-fe97-4493-b0a3-abf87060e99a",
   "1dbf11cf-8319-4400-a10d-e5a8f8978116",
   "6d12d3ac-d1d2-498d-9823-00d6828a7a93"
  ]
 },
 "nbformat": 4,
 "nbformat_minor": 5
}
